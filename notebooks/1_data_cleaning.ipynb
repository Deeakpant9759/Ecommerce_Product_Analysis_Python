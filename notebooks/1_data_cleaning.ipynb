{
 "cells": [
  {
   "cell_type": "code",
   "execution_count": null,
   "id": "32207bbb",
   "metadata": {},
   "outputs": [],
   "source": [
    "import pandas as pd\n",
    "import numpy as np\n",
    "import matplotlib.pyplot as plt\n",
    "import seaborn as sns\n",
    "import os"
   ]
  },
  {
   "cell_type": "code",
   "execution_count": null,
   "id": "d8dceff4",
   "metadata": {},
   "outputs": [],
   "source": [
    "df = pd.read_json(\"../Data/Raw/flipkart_fashion_products_dataset.json\")\n"
   ]
  },
  {
   "cell_type": "code",
   "execution_count": null,
   "id": "ae42757d",
   "metadata": {},
   "outputs": [],
   "source": [
    "df_figures = df[['_id','actual_price','discount','average_rating','selling_price']]\n"
   ]
  },
  {
   "cell_type": "code",
   "execution_count": null,
   "id": "163cea7e",
   "metadata": {},
   "outputs": [],
   "source": [
    "df_facts = df[['_id','brand','category','crawled_at','out_of_stock','seller','sub_category','title']]"
   ]
  },
  {
   "cell_type": "code",
   "execution_count": null,
   "id": "9988ad68",
   "metadata": {},
   "outputs": [],
   "source": [
    "df_figures['actual_price'] = df_figures['actual_price'].str.replace('₹', '').str.replace(',', '').str.strip()\n",
    "df_figures['discount'] = df_figures['discount'].str.replace('%', '').str.replace(',', '').str.replace('off', '').str.strip()\n",
    "df_figures['average_rating'] = df_figures['average_rating']\n",
    "df_figures['selling_price'] = df_figures['selling_price'].str.replace('₹', '').str.replace(',', '').str.strip()"
   ]
  },
  {
   "cell_type": "code",
   "execution_count": null,
   "id": "7bc3bb31",
   "metadata": {},
   "outputs": [],
   "source": [
    "df_figures.head()"
   ]
  },
  {
   "cell_type": "code",
   "execution_count": null,
   "id": "7c665c6f",
   "metadata": {},
   "outputs": [],
   "source": [
    "df_figures.info()"
   ]
  },
  {
   "cell_type": "code",
   "execution_count": null,
   "id": "b364f6da",
   "metadata": {},
   "outputs": [],
   "source": [
    "df_figures.loc[df_figures['actual_price'] == \"\", 'actual_price'] = np.nan"
   ]
  },
  {
   "cell_type": "code",
   "execution_count": null,
   "id": "3937c86f",
   "metadata": {},
   "outputs": [],
   "source": [
    "df_figures.loc[df_figures['discount'] == \"\", 'discount'] = np.nan"
   ]
  },
  {
   "cell_type": "code",
   "execution_count": null,
   "id": "b43fa881",
   "metadata": {},
   "outputs": [],
   "source": [
    "df_figures.loc[df_figures['selling_price'] == \"\", 'selling_price'] = np.nan"
   ]
  },
  {
   "cell_type": "code",
   "execution_count": null,
   "id": "dc848976",
   "metadata": {},
   "outputs": [],
   "source": [
    "df_figures.loc[df_figures['average_rating'] == \"\", 'average_rating'] = np.nan"
   ]
  },
  {
   "cell_type": "code",
   "execution_count": null,
   "id": "4435793d",
   "metadata": {},
   "outputs": [],
   "source": [
    "df_figures['actual_price'] = df_figures['actual_price'].astype(float)\n",
    "df_figures['discount'] = df_figures['discount'].astype(float)\n",
    "df_figures['selling_price'] = df_figures['selling_price'].astype(float)\n",
    "df_figures['average_rating'] = df_figures['average_rating'].astype(float)"
   ]
  },
  {
   "cell_type": "code",
   "execution_count": null,
   "id": "0e57bfab",
   "metadata": {},
   "outputs": [],
   "source": [
    "cols = ['actual_price', 'selling_price', 'average_rating', 'discount']\n",
    "df_figures = df_figures[~df_figures[cols].isna().all(axis=1)]\n"
   ]
  },
  {
   "cell_type": "code",
   "execution_count": 20,
   "id": "5e8a36e6",
   "metadata": {},
   "outputs": [
    {
     "name": "stdout",
     "output_type": "stream",
     "text": [
      "<class 'pandas.core.frame.DataFrame'>\n",
      "Index: 29998 entries, 0 to 29999\n",
      "Data columns (total 5 columns):\n",
      " #   Column          Non-Null Count  Dtype  \n",
      "---  ------          --------------  -----  \n",
      " 0   _id             29998 non-null  object \n",
      " 1   actual_price    29137 non-null  float64\n",
      " 2   discount        29059 non-null  float64\n",
      " 3   average_rating  27554 non-null  float64\n",
      " 4   selling_price   29998 non-null  float64\n",
      "dtypes: float64(4), object(1)\n",
      "memory usage: 1.4+ MB\n"
     ]
    }
   ],
   "source": [
    "df_figures.info()"
   ]
  },
  {
   "cell_type": "code",
   "execution_count": 19,
   "id": "325635c0",
   "metadata": {},
   "outputs": [
    {
     "data": {
      "text/html": [
       "<div>\n",
       "<style scoped>\n",
       "    .dataframe tbody tr th:only-of-type {\n",
       "        vertical-align: middle;\n",
       "    }\n",
       "\n",
       "    .dataframe tbody tr th {\n",
       "        vertical-align: top;\n",
       "    }\n",
       "\n",
       "    .dataframe thead th {\n",
       "        text-align: right;\n",
       "    }\n",
       "</style>\n",
       "<table border=\"1\" class=\"dataframe\">\n",
       "  <thead>\n",
       "    <tr style=\"text-align: right;\">\n",
       "      <th></th>\n",
       "      <th>_id</th>\n",
       "      <th>brand</th>\n",
       "      <th>category</th>\n",
       "      <th>crawled_at</th>\n",
       "      <th>out_of_stock</th>\n",
       "      <th>seller</th>\n",
       "      <th>sub_category</th>\n",
       "      <th>title</th>\n",
       "    </tr>\n",
       "  </thead>\n",
       "  <tbody>\n",
       "    <tr>\n",
       "      <th>0</th>\n",
       "      <td>fa8e22d6-c0b6-5229-bb9e-ad52eda39a0a</td>\n",
       "      <td>York</td>\n",
       "      <td>Clothing and Accessories</td>\n",
       "      <td>2021-02-10 20:11:51</td>\n",
       "      <td>False</td>\n",
       "      <td>Shyam Enterprises</td>\n",
       "      <td>Bottomwear</td>\n",
       "      <td>Solid Men Multicolor Track Pants</td>\n",
       "    </tr>\n",
       "    <tr>\n",
       "      <th>1</th>\n",
       "      <td>893e6980-f2a0-531f-b056-34dd63fe912c</td>\n",
       "      <td>York</td>\n",
       "      <td>Clothing and Accessories</td>\n",
       "      <td>2021-02-10 20:11:52</td>\n",
       "      <td>False</td>\n",
       "      <td>Shyam Enterprises</td>\n",
       "      <td>Bottomwear</td>\n",
       "      <td>Solid Men Blue Track Pants</td>\n",
       "    </tr>\n",
       "    <tr>\n",
       "      <th>2</th>\n",
       "      <td>eb4c8eab-8206-59d0-bcd1-a724d96bf74f</td>\n",
       "      <td>York</td>\n",
       "      <td>Clothing and Accessories</td>\n",
       "      <td>2021-02-10 20:11:52</td>\n",
       "      <td>False</td>\n",
       "      <td>Shyam Enterprises</td>\n",
       "      <td>Bottomwear</td>\n",
       "      <td>Solid Men Multicolor Track Pants</td>\n",
       "    </tr>\n",
       "    <tr>\n",
       "      <th>3</th>\n",
       "      <td>3f3f97bb-5faf-57df-a9ff-1af24e2b1045</td>\n",
       "      <td>York</td>\n",
       "      <td>Clothing and Accessories</td>\n",
       "      <td>2021-02-10 20:11:53</td>\n",
       "      <td>False</td>\n",
       "      <td>Shyam Enterprises</td>\n",
       "      <td>Bottomwear</td>\n",
       "      <td>Solid Men Multicolor Track Pants</td>\n",
       "    </tr>\n",
       "    <tr>\n",
       "      <th>4</th>\n",
       "      <td>750caa3d-6264-53ca-8ce1-94118a1d8951</td>\n",
       "      <td>York</td>\n",
       "      <td>Clothing and Accessories</td>\n",
       "      <td>2021-02-10 20:11:53</td>\n",
       "      <td>False</td>\n",
       "      <td>Shyam Enterprises</td>\n",
       "      <td>Bottomwear</td>\n",
       "      <td>Solid Men Brown, Grey Track Pants</td>\n",
       "    </tr>\n",
       "  </tbody>\n",
       "</table>\n",
       "</div>"
      ],
      "text/plain": [
       "                                    _id brand                  category  \\\n",
       "0  fa8e22d6-c0b6-5229-bb9e-ad52eda39a0a  York  Clothing and Accessories   \n",
       "1  893e6980-f2a0-531f-b056-34dd63fe912c  York  Clothing and Accessories   \n",
       "2  eb4c8eab-8206-59d0-bcd1-a724d96bf74f  York  Clothing and Accessories   \n",
       "3  3f3f97bb-5faf-57df-a9ff-1af24e2b1045  York  Clothing and Accessories   \n",
       "4  750caa3d-6264-53ca-8ce1-94118a1d8951  York  Clothing and Accessories   \n",
       "\n",
       "           crawled_at  out_of_stock             seller sub_category  \\\n",
       "0 2021-02-10 20:11:51         False  Shyam Enterprises   Bottomwear   \n",
       "1 2021-02-10 20:11:52         False  Shyam Enterprises   Bottomwear   \n",
       "2 2021-02-10 20:11:52         False  Shyam Enterprises   Bottomwear   \n",
       "3 2021-02-10 20:11:53         False  Shyam Enterprises   Bottomwear   \n",
       "4 2021-02-10 20:11:53         False  Shyam Enterprises   Bottomwear   \n",
       "\n",
       "                               title  \n",
       "0   Solid Men Multicolor Track Pants  \n",
       "1         Solid Men Blue Track Pants  \n",
       "2   Solid Men Multicolor Track Pants  \n",
       "3   Solid Men Multicolor Track Pants  \n",
       "4  Solid Men Brown, Grey Track Pants  "
      ]
     },
     "execution_count": 19,
     "metadata": {},
     "output_type": "execute_result"
    }
   ],
   "source": [
    "df_facts.head()"
   ]
  },
  {
   "cell_type": "code",
   "execution_count": 21,
   "id": "33c1663e",
   "metadata": {},
   "outputs": [
    {
     "name": "stdout",
     "output_type": "stream",
     "text": [
      "<class 'pandas.core.frame.DataFrame'>\n",
      "RangeIndex: 30000 entries, 0 to 29999\n",
      "Data columns (total 8 columns):\n",
      " #   Column        Non-Null Count  Dtype         \n",
      "---  ------        --------------  -----         \n",
      " 0   _id           30000 non-null  object        \n",
      " 1   brand         30000 non-null  object        \n",
      " 2   category      30000 non-null  object        \n",
      " 3   crawled_at    30000 non-null  datetime64[ns]\n",
      " 4   out_of_stock  30000 non-null  bool          \n",
      " 5   seller        30000 non-null  object        \n",
      " 6   sub_category  30000 non-null  object        \n",
      " 7   title         30000 non-null  object        \n",
      "dtypes: bool(1), datetime64[ns](1), object(6)\n",
      "memory usage: 1.6+ MB\n"
     ]
    }
   ],
   "source": [
    "df_facts.info()"
   ]
  },
  {
   "cell_type": "code",
   "execution_count": 35,
   "id": "7f7db559",
   "metadata": {},
   "outputs": [],
   "source": [
    "df_facts = df_facts[df_facts['brand']!=\"\"]\n",
    "df_facts = df_facts[df_facts['seller']!=\"\"]"
   ]
  },
  {
   "cell_type": "code",
   "execution_count": 38,
   "id": "f58f5f24",
   "metadata": {},
   "outputs": [
    {
     "name": "stdout",
     "output_type": "stream",
     "text": [
      "<class 'pandas.core.frame.DataFrame'>\n",
      "Index: 26535 entries, 0 to 29998\n",
      "Data columns (total 8 columns):\n",
      " #   Column        Non-Null Count  Dtype         \n",
      "---  ------        --------------  -----         \n",
      " 0   _id           26535 non-null  object        \n",
      " 1   brand         26535 non-null  object        \n",
      " 2   category      26535 non-null  object        \n",
      " 3   crawled_at    26535 non-null  datetime64[ns]\n",
      " 4   out_of_stock  26535 non-null  bool          \n",
      " 5   seller        26535 non-null  object        \n",
      " 6   sub_category  26535 non-null  object        \n",
      " 7   title         26535 non-null  object        \n",
      "dtypes: bool(1), datetime64[ns](1), object(6)\n",
      "memory usage: 1.6+ MB\n"
     ]
    }
   ],
   "source": [
    "df_facts.info()"
   ]
  },
  {
   "cell_type": "code",
   "execution_count": 47,
   "id": "2508f590",
   "metadata": {},
   "outputs": [
    {
     "name": "stderr",
     "output_type": "stream",
     "text": [
      "C:\\Users\\MICILMEDS\\AppData\\Local\\Temp\\ipykernel_60316\\2365997443.py:1: FutureWarning: DataFrame.applymap has been deprecated. Use DataFrame.map instead.\n",
      "  df_figures = df_figures[~df_figures.applymap(lambda x:x ==\"\" or pd.isnull(x)).any(axis=1)]\n"
     ]
    }
   ],
   "source": [
    "df_figures = df_figures[~df_figures.applymap(lambda x:x ==\"\" or pd.isnull(x)).any(axis=1)]"
   ]
  },
  {
   "cell_type": "code",
   "execution_count": 49,
   "id": "5a7f5d42",
   "metadata": {},
   "outputs": [],
   "source": [
    "df_final = pd.merge(df_figures, df_facts, on='_id', how='inner')"
   ]
  },
  {
   "cell_type": "code",
   "execution_count": 52,
   "id": "1bfc2101",
   "metadata": {},
   "outputs": [],
   "source": [
    "df_final.to_excel(\"../Data/Cleaned/cleaned_data.xlsx\", index=False)"
   ]
  }
 ],
 "metadata": {
  "kernelspec": {
   "display_name": "venv",
   "language": "python",
   "name": "python3"
  },
  "language_info": {
   "codemirror_mode": {
    "name": "ipython",
    "version": 3
   },
   "file_extension": ".py",
   "mimetype": "text/x-python",
   "name": "python",
   "nbconvert_exporter": "python",
   "pygments_lexer": "ipython3",
   "version": "3.12.3"
  }
 },
 "nbformat": 4,
 "nbformat_minor": 5
}
